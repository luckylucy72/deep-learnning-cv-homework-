{
 "cells": [
  {
   "cell_type": "code",
   "execution_count": null,
   "metadata": {},
   "outputs": [],
   "source": [
    "import cv2\n",
    "import random\n",
    "import numpy as np\n",
    "from matplotlib import pyplot as plt\n",
    "img = cv2.imread('c:\\imagenoise.jpg',0)\n",
    "cv2.imshow('imagenoise',img)\n",
    "cv2.waitKey(0)\n",
    "\n",
    "k=int(input('请输入模板大小'))\n",
    "sp=int((k-1)/2)       #padding 大小\n",
    "dst=np.zeros((img.shape[0]+sp,img.shape[1]+sp),dtype=\"uint8\")\n",
    "for i in range(int(k/2),img.shape[0]-int(k/2)):\n",
    "    for j in range(int(k/2),img.shape[1]-int(k/2)):\n",
    "        c=img[int(i-k/2): int(i+k/2+1),int(j-k/2):int(j+k/2+1)] # 取模板大小的图像块\n",
    "        d=np.zeros((1,k*k),dtype='uint8')\n",
    "        d=np.sort(c.flatten())                   #对所取图像块排序\n",
    "        dst[i][j]=d[int((d.shape[0] -1)/2)]     #取中间位置的像素值\n",
    "cv2.imshow('dst',dst)\n",
    "cv2.waitKey(0)\n",
    "                                          "
   ]
  }
 ],
 "metadata": {
  "kernelspec": {
   "display_name": "Python 3",
   "language": "python",
   "name": "python3"
  },
  "language_info": {
   "codemirror_mode": {
    "name": "ipython",
    "version": 3
   },
   "file_extension": ".py",
   "mimetype": "text/x-python",
   "name": "python",
   "nbconvert_exporter": "python",
   "pygments_lexer": "ipython3",
   "version": "3.6.8"
  }
 },
 "nbformat": 4,
 "nbformat_minor": 2
}

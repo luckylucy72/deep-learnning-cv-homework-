{
 "cells": [
  {
   "cell_type": "code",
   "execution_count": 34,
   "metadata": {},
   "outputs": [],
   "source": [
    "import cv2\n",
    "import random\n",
    "import numpy as np\n",
    "from matplotlib import pyplot as plt\n",
    "\n",
    " "
   ]
  },
  {
   "cell_type": "code",
   "execution_count": 35,
   "metadata": {},
   "outputs": [],
   "source": [
    "def imcrop(img):\n",
    "    print('image shape',img.shape)\n",
    "    h1=int(input('请输入竖直方向的起始位置'))\n",
    "    h2=int(input('请输入竖直方向的终止位置'))\n",
    "    w1=int(input('请输入水平方向的起始位置'))\n",
    "    w2=int(input('请输入水平方向的终止位置'))\n",
    "    img_crop = img[h1:h2, w1:w2]\n",
    "    return img_crop    "
   ]
  },
  {
   "cell_type": "code",
   "execution_count": 36,
   "metadata": {},
   "outputs": [],
   "source": [
    "def change_color(img):\n",
    "    # brightness\n",
    "    B, G, R = cv2.split(img)\n",
    "\n",
    "    b_rand =int(input('请输入蓝色分量的亮度增量'))\n",
    "    if b_rand == 0:\n",
    "        pass\n",
    "    elif b_rand > 0:   # 图像矩阵是uint8的，对于加起来大于255的像素值置为255\n",
    "        lim = 255 - b_rand\n",
    "        B[B > lim] = 255\n",
    "        B[B <= lim] = (b_rand + B[B <= lim]).astype(img.dtype)\n",
    "    elif b_rand < 0:      # 对于加起来小于0的像素值置为0\n",
    "        lim = 0 - b_rand\n",
    "        B[B < lim] = 0\n",
    "        B[B >= lim] = (b_rand + B[B >= lim]).astype(img.dtype)\n",
    "\n",
    "    g_rand = int(input('请输入红色分量的亮度增量'))\n",
    "    if g_rand == 0:\n",
    "        pass\n",
    "    elif g_rand > 0:\n",
    "        lim = 255 - g_rand\n",
    "        G[G > lim] = 255\n",
    "        G[G <= lim] = (g_rand + G[G <= lim]).astype(img.dtype)\n",
    "    elif g_rand < 0:\n",
    "        lim = 0 - g_rand\n",
    "        G[G < lim] = 0\n",
    "        G[G >= lim] = (g_rand + G[G >= lim]).astype(img.dtype)\n",
    "\n",
    "    r_rand = int(input('请输入红色分量的亮度增量'))\n",
    "    if r_rand == 0:\n",
    "        pass\n",
    "    elif r_rand > 0:\n",
    "        lim = 255 - r_rand\n",
    "        R[R > lim] = 255\n",
    "        R[R <= lim] = (r_rand + R[R <= lim]).astype(img.dtype)\n",
    "    elif r_rand < 0:\n",
    "        lim = 0 - r_rand\n",
    "        R[R < lim] = 0\n",
    "        R[R >= lim] = (r_rand + R[R >= lim]).astype(img.dtype)\n",
    "\n",
    "    img_merge = cv2.merge((B, G, R))\n",
    "    #img = cv2.cvtColor(final_hsv, cv2.COLOR_HSV2BGR)\n",
    "    return img_merge "
   ]
  },
  {
   "cell_type": "code",
   "execution_count": 37,
   "metadata": {},
   "outputs": [],
   "source": [
    "def imtranform(img):\n",
    "    angle= int(input('请输入旋转角'))\n",
    "    scale=float(input('请输入缩放比例'))\n",
    "    translationx=int(input('请输入水平平移量'))\n",
    "    translationy=int(input('请输入垂直平移量'))\n",
    "    M = cv2.getRotationMatrix2D((img.shape[1] / 2, img.shape[0] / 2), angle, scale) # center, angle, scale\n",
    "    M[0,2]=M[0,2]+translationx\n",
    "    M[1,2]=M[1,2]+translationy\n",
    "    img_rotate = cv2.warpAffine(img, M, (img.shape[1], img.shape[0]))\n",
    "    cv2.imshow('rotated flower', img_rotate)\n",
    "    key = cv2.waitKey(0)\n",
    "    if key == 27:\n",
    "        cv2.destroyAllWindows()\n",
    "    \n"
   ]
  },
  {
   "cell_type": "code",
   "execution_count": 38,
   "metadata": {},
   "outputs": [
    {
     "name": "stdout",
     "output_type": "stream",
     "text": [
      "请选择如下操作：1 图像剪裁；2 改变亮度；3 几何变换\n",
      "input a operation1\n",
      "image shape (547, 730, 3)\n",
      "请输入竖直方向的起始位置200\n",
      "请输入竖直方向的终止位置300\n",
      "请输入水平方向的起始位置300\n",
      "请输入水平方向的终止位置500\n"
     ]
    }
   ],
   "source": [
    "img = cv2.imread('c:\\image0.jpg')\n",
    "cv2.imshow('flower', img)\n",
    "key = cv2.waitKey()\n",
    "if key == 27:\n",
    "    cv2.destroyAllWindows()\n",
    "print('请选择如下操作：1 图像剪裁；2 改变亮度；3 几何变换')\n",
    "a=input('input a operation')\n",
    "a=int(a)\n",
    "if a==1:\n",
    "    dst=imcrop(img)\n",
    "    cv2.imshow('dst',dst)   \n",
    "    cv2.waitKey(0) \n",
    "if a==2:\n",
    "    dst=change_color(img)\n",
    "    cv2.imshow('dst',dst) \n",
    "    cv2.waitKey(0)\n",
    "if a==3:\n",
    "    dst=imtranform(img)\n"
   ]
  },
  {
   "cell_type": "code",
   "execution_count": null,
   "metadata": {},
   "outputs": [],
   "source": [
    "\n"
   ]
  },
  {
   "cell_type": "code",
   "execution_count": null,
   "metadata": {},
   "outputs": [],
   "source": []
  }
 ],
 "metadata": {
  "kernelspec": {
   "display_name": "Python 3",
   "language": "python",
   "name": "python3"
  },
  "language_info": {
   "codemirror_mode": {
    "name": "ipython",
    "version": 3
   },
   "file_extension": ".py",
   "mimetype": "text/x-python",
   "name": "python",
   "nbconvert_exporter": "python",
   "pygments_lexer": "ipython3",
   "version": "3.6.8"
  }
 },
 "nbformat": 4,
 "nbformat_minor": 2
}

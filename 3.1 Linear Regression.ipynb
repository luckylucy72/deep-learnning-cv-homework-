{
 "cells": [
  {
   "cell_type": "code",
   "execution_count": 120,
   "metadata": {},
   "outputs": [],
   "source": [
    "#导入包\n",
    "import tensorflow as tf\n",
    "import numpy as np\n",
    "import matplotlib.pyplot as plt\n",
    "from numpy import random"
   ]
  },
  {
   "cell_type": "code",
   "execution_count": 121,
   "metadata": {},
   "outputs": [],
   "source": [
    "def inference(w, b, x):        # inference, test, predict, same thing. Run model after training\n",
    "    pred_y = w * x + b\n",
    "    return pred_y\n"
   ]
  },
  {
   "cell_type": "code",
   "execution_count": 122,
   "metadata": {},
   "outputs": [],
   "source": [
    "def eval_loss(w, b, x_list, gt_y_list):\n",
    "    avg_loss= 0.5 * sum((w * x_list + b - gt_y_list) ** 2 )   # loss \n",
    "    avg_loss /= len(gt_y_list)\n",
    "    return avg_loss\n"
   ]
  },
  {
   "cell_type": "code",
   "execution_count": 123,
   "metadata": {},
   "outputs": [],
   "source": [
    "def gradient(pred_y, gt_y, x):\n",
    "    diff = pred_y - gt_y\n",
    "    dw = diff * x\n",
    "    db = diff\n",
    "    return dw, db\n"
   ]
  },
  {
   "cell_type": "code",
   "execution_count": 124,
   "metadata": {},
   "outputs": [],
   "source": [
    "def cal_step_gradient(batch_x_list, batch_gt_y_list, w, b, lr):\n",
    "    avg_dw, avg_db = 0, 0\n",
    "    batch_size = len(batch_x_list)\n",
    "    #print(bat)\n",
    "    pred_y=inference(w,b,batch_x_list)\n",
    "    dw, db = gradient(pred_y, batch_gt_y_list, batch_x_list)\n",
    "    avg_dw = sum(dw)/batch_size\n",
    "    avg_db = sum(db)/batch_size\n",
    "    w -= lr * avg_dw\n",
    "    b -= lr * avg_db\n",
    "    return w, b\n"
   ]
  },
  {
   "cell_type": "code",
   "execution_count": 127,
   "metadata": {},
   "outputs": [],
   "source": [
    "def train(x_list,gt_y_list):\n",
    "    w = 0\n",
    "    b = 0\n",
    "    num_samples = len(x_list)\n",
    "    lr = 0.0005\n",
    "    max_iter = 10000\n",
    "    batch_size=50\n",
    "    for i in range(max_iter):\n",
    "        batch_idxs = np.random.choice(len(x_list), batch_size,replace=False)\n",
    "        batch_x = x_list[batch_idxs]\n",
    "        batch_y = y_list[batch_idxs]\n",
    "        pred_y=inference(w, b,batch_x)\n",
    "        w, b = cal_step_gradient(batch_x, batch_y, w, b, lr)\n",
    "        print('w:{0}, b:{1}'.format(w, b))\n",
    "        print('loss is {0}'.format(eval_loss(w, b, x_list, gt_y_list)))\n",
    "    plt.plot(batch_y,pred_y,'r',lw=5)"
   ]
  },
  {
   "cell_type": "code",
   "execution_count": null,
   "metadata": {},
   "outputs": [],
   "source": [
    "w = random.randint(0, 10) + random.random() # for noise random.random[0, 1)\n",
    "b = random.randint(0, 5) + random.random()\n",
    "num_samples=int(input('请输入样本个数'))\n",
    "x_list =random.randint(0, 100,size=(num_samples,1)) * random.random()\n",
    "y_list = w * x_list + b + random.random(size=(num_samples,1)) * random.randint(-1, 1)\n",
    "train(x_list,y_list)\n"
   ]
  },
  {
   "cell_type": "code",
   "execution_count": null,
   "metadata": {},
   "outputs": [],
   "source": []
  }
 ],
 "metadata": {
  "kernelspec": {
   "display_name": "Python 3",
   "language": "python",
   "name": "python3"
  },
  "language_info": {
   "codemirror_mode": {
    "name": "ipython",
    "version": 3
   },
   "file_extension": ".py",
   "mimetype": "text/x-python",
   "name": "python",
   "nbconvert_exporter": "python",
   "pygments_lexer": "ipython3",
   "version": "3.6.8"
  }
 },
 "nbformat": 4,
 "nbformat_minor": 2
}
